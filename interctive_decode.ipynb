{
 "cells": [
  {
   "cell_type": "markdown",
   "metadata": {},
   "source": [
    "Initialize the environment"
   ]
  },
  {
   "cell_type": "code",
   "execution_count": 12,
   "metadata": {},
   "outputs": [
    {
     "name": "stdout",
     "output_type": "stream",
     "text": [
      "Namespace(no_progress_bar=False, log_interval=1000, log_format=None, tensorboard_logdir='', tbmf_wrapper=False, seed=1, cpu=False, fp16=False, memory_efficient_fp16=False, fp16_init_scale=128, fp16_scale_window=None, fp16_scale_tolerance=0.0, min_loss_scale=0.0001, threshold_loss_scale=None, user_dir=None, criterion='cross_entropy', tokenizer=None, bpe=None, optimizer='nag', lr_scheduler='fixed', task='translation_coord', num_workers=1, skip_invalid_size_inputs_valid_test=False, max_tokens=1024, max_sentences=None, required_batch_size_multiple=8, dataset_impl=None, gen_subset='gen_8fln', num_shards=1, shard_id=0, path='checkpoints/crossdock_pdb_A10/checkpoint_best.pt', remove_bpe=None, quiet=False, model_overrides='{}', results_path=None, beam=20, nbest=20, max_len_a=0, max_len_b=200, min_len=1, match_source_len=False, no_early_stop=False, unnormalized=False, no_beamable_mm=False, lenpen=1, unkpen=0, replace_unk=None, sacrebleu=False, score_reference=False, prefix_size=0, prefix_string=None, tag_prefix_token=False, no_repeat_ngram_size=0, sampling=False, sampling_topk=-1, sampling_topp=-1.0, temperature=1.0, diverse_beam_groups=-1, diverse_beam_strength=0.5, print_alignment=False, scorer='bleu', codegen_pov_replace_unk=True, dump_hyp=None, momentum=0.99, weight_decay=0.0, force_anneal=None, lr_shrink=0.1, warmup_updates=0, data='./TamGen_Demo_Data', source_lang='tg', target_lang='m1', lazy_load=False, raw_text=False, left_pad_source='True', left_pad_target='False', max_source_positions=1024, max_target_positions=1024, upsample_primary=1, coord_mode='raw', use_src_coord=True, use_tgt_coord=False, shuffle_input=False, vae=False, sample_beta=1.0, hint=False, hint_rate=0.5, gen_coord_noise=False, gen_rot=False, gen_vae=True, remove_prefix_fragment=False)\n",
      "| [tg] dictionary: 25 types\n",
      "| [m1] dictionary: 962 types\n",
      "| loading model(s) from checkpoints/crossdock_pdb_A10/checkpoint_best.pt\n",
      "checkpoints/crossdock_pdb_A10/checkpoint_best.pt\n",
      "gpt_model/checkpoint_best.pt\n"
     ]
    }
   ],
   "source": [
    "from TamGen_Demo import TamGenDemo, prepare_pdb_data, prepare_pdb_data_center\n",
    "import os\n",
    "\n",
    "os.environ[\"CUDA_VISIBLE_DEVICES\"] = \"0\"\n",
    "\n",
    "worker = TamGenDemo(\n",
    "    data=\"./TamGen_Demo_Data\",\n",
    "    ckpt=\"checkpoints/crossdock_pdb_A10/checkpoint_best.pt\",\n",
    "    use_conditional=True,\n",
    ")"
   ]
  },
  {
   "cell_type": "markdown",
   "metadata": {},
   "source": [
    "Set the PDB you want to generate cmpds"
   ]
  },
  {
   "cell_type": "code",
   "execution_count": 86,
   "metadata": {},
   "outputs": [
    {
     "name": "stdout",
     "output_type": "stream",
     "text": []
    },
    {
     "name": "stdout",
     "output_type": "stream",
     "text": []
    }
   ],
   "source": [
    "pdb_id = \"7te0\" # \"5dzk, 7d1m\" \"7te0\"\n",
    "prepare_pdb_data(pdb_id,)\n"
   ]
  },
  {
   "cell_type": "code",
   "execution_count": 24,
   "metadata": {},
   "outputs": [
    {
     "name": "stdout",
     "output_type": "stream",
     "text": []
    },
    {
     "name": "stdout",
     "output_type": "stream",
     "text": []
    }
   ],
   "source": [
    "prepare_pdb_data(\"7TE0\", DemoDataFolder=\"TamGen_Demo_Data\", thr=10)  # -> gen_7te0_t10\n",
    "prepare_pdb_data(\"7TE0\", DemoDataFolder=\"TamGen_Demo_Data\", thr=15)  # -> gen_7te0_t15\n",
    "\n",
    "# explicit center (example coords; replace with yours)\n",
    "prepare_pdb_data_center(\"7TE0\", center_xyz=(12.3, 34.5, 6.7),\n",
    "                        DemoDataFolder=\"TamGen_Demo_Data\", thr=12)"
   ]
  },
  {
   "cell_type": "markdown",
   "metadata": {},
   "source": [
    "Visualize the molecules"
   ]
  },
  {
   "cell_type": "code",
   "execution_count": 11,
   "metadata": {},
   "outputs": [
    {
     "name": "stdout",
     "output_type": "stream",
     "text": []
    },
    {
     "name": "stdout",
     "output_type": "stream",
     "text": []
    },
    {
     "name": "stdout",
     "output_type": "stream",
     "text": []
    }
   ],
   "source": [
    "worker.reload_data(subset=\"gen_\" + pdb_id.lower())\n",
    "\n",
    "hyps, ref = worker.sample(\n",
    "    m_sample=5000, \n",
    "    maxseed=30,\n",
    ")"
   ]
  },
  {
   "cell_type": "code",
   "execution_count": 6,
   "metadata": {},
   "outputs": [],
   "source": [
    "from rdkit import Chem \n",
    "from rdkit.Chem import  DataStructs # Draw, AllChem,\n",
    "from rdkit.Chem import MACCSkeys"
   ]
  },
  {
   "cell_type": "code",
   "execution_count": 3,
   "metadata": {},
   "outputs": [],
   "source": [
    "import torch"
   ]
  },
  {
   "cell_type": "code",
   "execution_count": 4,
   "metadata": {},
   "outputs": [],
   "source": [
    "torch.backends.cuda.matmul.allow_tf32 = True\n",
    "torch.backends.cudnn.allow_tf32 = True "
   ]
  },
  {
   "cell_type": "code",
   "execution_count": 5,
   "metadata": {},
   "outputs": [
    {
     "name": "stdout",
     "output_type": "stream",
     "text": []
    }
   ],
   "source": [
    "print(\"CUDA:\", torch.version.cuda, \"| Torch:\", torch.__version__)\n",
    "print(\"Device:\", torch.cuda.get_device_name(0) if torch.cuda.is_available() else \"CPU\")\n",
    "print(\"TF32 matmul allowed:\", torch.backends.cuda.matmul.allow_tf32)\n",
    "print(\"TF32 cuDNN allowed:\", torch.backends.cudnn.allow_tf32)"
   ]
  },
  {
   "cell_type": "code",
   "execution_count": 25,
   "metadata": {},
   "outputs": [
    {
     "name": "stdout",
     "output_type": "stream",
     "text": []
    }
   ],
   "source": [
    "try:\n",
    "    torch.set_float32_matmul_precision('high')\n",
    "    print(\"matmul precision:\", torch.get_float32_matmul_precision())\n",
    "except Exception:\n",
    "    pass\n"
   ]
  },
  {
   "cell_type": "markdown",
   "metadata": {},
   "source": [
    "### Conditional(VAE) "
   ]
  },
  {
   "cell_type": "code",
   "execution_count": 19,
   "metadata": {},
   "outputs": [
    {
     "name": "stdout",
     "output_type": "stream",
     "text": [
      "Namespace(no_progress_bar=False, log_interval=1000, log_format=None, tensorboard_logdir='', tbmf_wrapper=False, seed=1, cpu=False, fp16=False, memory_efficient_fp16=False, fp16_init_scale=128, fp16_scale_window=None, fp16_scale_tolerance=0.0, min_loss_scale=0.0001, threshold_loss_scale=None, user_dir=None, criterion='cross_entropy', tokenizer=None, bpe=None, optimizer='nag', lr_scheduler='fixed', task='translation_coord', num_workers=1, skip_invalid_size_inputs_valid_test=False, max_tokens=1024, max_sentences=None, required_batch_size_multiple=8, dataset_impl=None, gen_subset='gen_8fln', num_shards=1, shard_id=0, path='checkpoints/crossdock_pdb_A10/checkpoint_best.pt', remove_bpe=None, quiet=False, model_overrides='{}', results_path=None, beam=20, nbest=20, max_len_a=0, max_len_b=200, min_len=1, match_source_len=False, no_early_stop=False, unnormalized=False, no_beamable_mm=False, lenpen=1, unkpen=0, replace_unk=None, sacrebleu=False, score_reference=False, prefix_size=0, prefix_string=None, tag_prefix_token=False, no_repeat_ngram_size=0, sampling=False, sampling_topk=-1, sampling_topp=-1.0, temperature=1.0, diverse_beam_groups=-1, diverse_beam_strength=0.5, print_alignment=False, scorer='bleu', codegen_pov_replace_unk=True, dump_hyp=None, momentum=0.99, weight_decay=0.0, force_anneal=None, lr_shrink=0.1, warmup_updates=0, data='./TamGen_Demo_Data', source_lang='tg', target_lang='m1', lazy_load=False, raw_text=False, left_pad_source='True', left_pad_target='False', max_source_positions=1024, max_target_positions=1024, upsample_primary=1, coord_mode='raw', use_src_coord=True, use_tgt_coord=False, shuffle_input=False, vae=False, sample_beta=1.0, hint=False, hint_rate=0.5, gen_coord_noise=False, gen_rot=False, gen_vae=True, remove_prefix_fragment=False)\n",
      "| [tg] dictionary: 25 types\n",
      "| [m1] dictionary: 962 types\n",
      "| loading model(s) from checkpoints/crossdock_pdb_A10/checkpoint_best.pt\n",
      "checkpoints/crossdock_pdb_A10/checkpoint_best.pt\n",
      "gpt_model/checkpoint_best.pt\n"
     ]
    }
   ],
   "source": [
    "### Contextual Conditional VAE\n",
    "worker_condition = TamGenDemo(\n",
    "    data=\"./TamGen_Demo_Data\",\n",
    "    ckpt=\"checkpoints/crossdock_pdb_A10/checkpoint_best.pt\",\n",
    "    use_conditional=True,\n",
    "    \n",
    ")\n",
    "worker_condition.args.sampling_topp = 0.95   \n",
    "worker_condition.args.sampling_temp = 1.0\n",
    "worker_condition.args.sampling_repetition_penalty = 1.2\n",
    "worker_condition.args.sampling_max_len = 100\n",
    "worker_condition.args.sampling_min_len = 10\n",
    "worker_condition.args.fp16=True"
   ]
  },
  {
   "cell_type": "markdown",
   "metadata": {},
   "source": [
    "### No Conditional"
   ]
  },
  {
   "cell_type": "code",
   "execution_count": 20,
   "metadata": {},
   "outputs": [
    {
     "name": "stdout",
     "output_type": "stream",
     "text": [
      "Namespace(no_progress_bar=False, log_interval=1000, log_format=None, tensorboard_logdir='', tbmf_wrapper=False, seed=1, cpu=False, fp16=False, memory_efficient_fp16=False, fp16_init_scale=128, fp16_scale_window=None, fp16_scale_tolerance=0.0, min_loss_scale=0.0001, threshold_loss_scale=None, user_dir=None, criterion='cross_entropy', tokenizer=None, bpe=None, optimizer='nag', lr_scheduler='fixed', task='translation_coord', num_workers=1, skip_invalid_size_inputs_valid_test=False, max_tokens=1024, max_sentences=None, required_batch_size_multiple=8, dataset_impl=None, gen_subset='gen_8fln', num_shards=1, shard_id=0, path='checkpoints/crossdock_pdb_A10/checkpoint_best.pt', remove_bpe=None, quiet=False, model_overrides='{}', results_path=None, beam=20, nbest=20, max_len_a=0, max_len_b=200, min_len=1, match_source_len=False, no_early_stop=False, unnormalized=False, no_beamable_mm=False, lenpen=1, unkpen=0, replace_unk=None, sacrebleu=False, score_reference=False, prefix_size=0, prefix_string=None, tag_prefix_token=False, no_repeat_ngram_size=0, sampling=False, sampling_topk=-1, sampling_topp=-1.0, temperature=1.0, diverse_beam_groups=-1, diverse_beam_strength=0.5, print_alignment=False, scorer='bleu', codegen_pov_replace_unk=True, dump_hyp=None, momentum=0.99, weight_decay=0.0, force_anneal=None, lr_shrink=0.1, warmup_updates=0, data='./TamGen_Demo_Data', source_lang='tg', target_lang='m1', lazy_load=False, raw_text=False, left_pad_source='True', left_pad_target='False', max_source_positions=1024, max_target_positions=1024, upsample_primary=1, coord_mode='raw', use_src_coord=True, use_tgt_coord=False, shuffle_input=False, vae=False, sample_beta=1.0, hint=False, hint_rate=0.5, gen_coord_noise=False, gen_rot=False, gen_vae=False, remove_prefix_fragment=False)\n",
      "| [tg] dictionary: 25 types\n",
      "| [m1] dictionary: 962 types\n",
      "| loading model(s) from checkpoints/crossdock_pdb_A10/checkpoint_best.pt\n",
      "checkpoints/crossdock_pdb_A10/checkpoint_best.pt\n",
      "gpt_model/checkpoint_best.pt\n"
     ]
    }
   ],
   "source": [
    "worker_nocondition = TamGenDemo(\n",
    "    data=\"./TamGen_Demo_Data\",\n",
    "    ckpt=\"checkpoints/crossdock_pdb_A10/checkpoint_best.pt\",\n",
    "    use_conditional=False,\n",
    ")\n",
    "worker_nocondition.args.sampling_topp = 0.95   \n",
    "worker_nocondition.args.sampling_temp = 1.0\n",
    "worker_nocondition.args.sampling_repetition_penalty = 1.2\n",
    "worker_nocondition.args.sampling_max_len = 100\n",
    "worker_nocondition.args.sampling_min_len = 10\n",
    "worker_nocondition.args.fp16=True"
   ]
  },
  {
   "cell_type": "code",
   "execution_count": 21,
   "metadata": {},
   "outputs": [],
   "source": [
    "wn = worker_nocondition    # and also do the same for a “baseline” worker_condition if you insist\n",
    "wn.args.sampling = False       # USE BEAM, like paper\n",
    "wn.args.beam = 20\n",
    "wn.args.nbest = 20\n",
    "\n",
    "w = worker_condition\n",
    "w.args.sampling = False\n",
    "w.args.beam = 20\n",
    "w.args.nbest = 20\n",
    "w.args.sample_beta = 0.1"
   ]
  },
  {
   "cell_type": "code",
   "execution_count": 22,
   "metadata": {},
   "outputs": [],
   "source": [
    "pdb_id = \"7te0\" # \"5dzk, 7d1m\" \"7te0\"\n",
    "# prepare_pdb_data(pdb_id,)"
   ]
  },
  {
   "cell_type": "code",
   "execution_count": 23,
   "metadata": {},
   "outputs": [
    {
     "name": "stdout",
     "output_type": "stream",
     "text": [
      "| loaded 1 examples from: ./TamGen_Demo_Data\\gen_7te0.tg-m1.tg\n",
      "| loaded 1 examples from: ./TamGen_Demo_Data\\gen_7te0.tg-m1.m1\n",
      "| ./TamGen_Demo_Data gen_7te0 tg-m1 1 examples\n",
      "| loaded 1 examples from: ./TamGen_Demo_Data\\gen_7te0.tg-m1.tg.coord\n",
      "| loaded 1 examples from: ./TamGen_Demo_Data\\gen_7te0.tg-m1.tg\n",
      "| loaded 1 examples from: ./TamGen_Demo_Data\\gen_7te0.tg-m1.m1\n",
      "| ./TamGen_Demo_Data gen_7te0 tg-m1 1 examples\n",
      "| loaded 1 examples from: ./TamGen_Demo_Data\\gen_7te0.tg-m1.tg.coord\n"
     ]
    }
   ],
   "source": [
    "worker_nocondition.reload_data(subset=\"gen_\" + pdb_id.lower())\n",
    "worker_condition.reload_data(subset=\"gen_\" + pdb_id.lower())"
   ]
  },
  {
   "cell_type": "code",
   "execution_count": 24,
   "metadata": {},
   "outputs": [],
   "source": [
    "import pandas as pd"
   ]
  },
  {
   "cell_type": "code",
   "execution_count": 25,
   "metadata": {},
   "outputs": [
    {
     "name": "stderr",
     "output_type": "stream",
     "text": [
      "  0%|          | 0/101 [00:00<?, ?it/s]"
     ]
    },
    {
     "name": "stderr",
     "output_type": "stream",
     "text": [
      " 14%|█▍        | 14/101 [01:06<06:51,  4.73s/it]\n"
     ]
    }
   ],
   "source": [
    "mols_ncond, ref_ncond = worker_nocondition.sample(\n",
    "    m_sample=100, \n",
    "    # maxseed=1000,\n",
    "    use_cuda=True\n",
    ")"
   ]
  },
  {
   "cell_type": "code",
   "execution_count": 27,
   "metadata": {},
   "outputs": [
    {
     "name": "stderr",
     "output_type": "stream",
     "text": [
      " 99%|█████████▉| 99/100 [08:26<00:05,  5.12s/it]\n"
     ]
    }
   ],
   "source": [
    "mols_cond, ref_cond = worker_condition.sample(\n",
    "    m_sample=100, \n",
    "    maxseed=100,\n",
    "    use_cuda=True\n",
    ")"
   ]
  },
  {
   "cell_type": "code",
   "execution_count": 28,
   "metadata": {},
   "outputs": [],
   "source": [
    "df_ncond = pd.DataFrame(list(mols_ncond.items()), columns=[\"SMILES_nocond\", \"Index\"])\n",
    "df_ncond.to_csv(f\"mols_ncond_gened_4_{pdb_id}.csv\")\n",
    "df_cond = pd.DataFrame(list(mols_cond.items()), columns=[\"SMILES_cond\", \"Index\"])\n",
    "df_cond.to_csv(f\"mols_cond_gened_4_{pdb_id}.csv\")"
   ]
  },
  {
   "cell_type": "code",
   "execution_count": 29,
   "metadata": {},
   "outputs": [],
   "source": [
    "pdb_id = \"7d1m\" # \"5dzk, 7d1m\" \"7te0\""
   ]
  },
  {
   "cell_type": "code",
   "execution_count": 30,
   "metadata": {},
   "outputs": [
    {
     "name": "stdout",
     "output_type": "stream",
     "text": [
      "| loaded 1 examples from: ./TamGen_Demo_Data\\gen_7d1m.tg-m1.tg\n",
      "| loaded 1 examples from: ./TamGen_Demo_Data\\gen_7d1m.tg-m1.m1\n",
      "| ./TamGen_Demo_Data gen_7d1m tg-m1 1 examples\n",
      "| loaded 1 examples from: ./TamGen_Demo_Data\\gen_7d1m.tg-m1.tg.coord\n",
      "| loaded 1 examples from: ./TamGen_Demo_Data\\gen_7d1m.tg-m1.tg\n",
      "| loaded 1 examples from: ./TamGen_Demo_Data\\gen_7d1m.tg-m1.m1\n",
      "| ./TamGen_Demo_Data gen_7d1m tg-m1 1 examples\n",
      "| loaded 1 examples from: ./TamGen_Demo_Data\\gen_7d1m.tg-m1.tg.coord\n"
     ]
    }
   ],
   "source": [
    "worker_nocondition.reload_data(subset=\"gen_\" + pdb_id.lower())\n",
    "worker_condition.reload_data(subset=\"gen_\" + pdb_id.lower())"
   ]
  },
  {
   "cell_type": "code",
   "execution_count": 31,
   "metadata": {},
   "outputs": [
    {
     "name": "stderr",
     "output_type": "stream",
     "text": [
      " 14%|█▍        | 14/101 [01:05<06:44,  4.66s/it]\n"
     ]
    }
   ],
   "source": [
    "mols_ncond, ref_ncond = worker_nocondition.sample(\n",
    "    m_sample=100, \n",
    "    # maxseed=1000,\n",
    "    use_cuda=True\n",
    ")\n"
   ]
  },
  {
   "cell_type": "code",
   "execution_count": 32,
   "metadata": {},
   "outputs": [
    {
     "name": "stderr",
     "output_type": "stream",
     "text": [
      " 99%|█████████▉| 99/100 [08:13<00:04,  4.99s/it]\n"
     ]
    }
   ],
   "source": [
    "mols_cond, ref_cond = worker_condition.sample(\n",
    "    m_sample=100, \n",
    "    maxseed=100,\n",
    "    use_cuda=True\n",
    ")"
   ]
  },
  {
   "cell_type": "code",
   "execution_count": 33,
   "metadata": {},
   "outputs": [],
   "source": [
    "df_ncond = pd.DataFrame(list(mols_ncond.items()), columns=[\"SMILES_nocond\", \"Index\"])\n",
    "df_ncond.to_csv(f\"mols_ncond_gened_5_{pdb_id}.csv\")\n",
    "df_cond = pd.DataFrame(list(mols_cond.items()), columns=[\"SMILES_cond\", \"Index\"])\n",
    "df_cond.to_csv(f\"mols_cond_gened_5_{pdb_id}.csv\")"
   ]
  },
  {
   "cell_type": "code",
   "execution_count": 19,
   "metadata": {},
   "outputs": [
    {
     "name": "stdout",
     "output_type": "stream",
     "text": [
      "104\n"
     ]
    }
   ],
   "source": [
    "# print(len(mols_cond))\n",
    "print(len(mols_ncond))"
   ]
  },
  {
   "cell_type": "code",
   "execution_count": 119,
   "metadata": {},
   "outputs": [
    {
     "name": "stdout",
     "output_type": "stream",
     "text": []
    }
   ],
   "source": [
    "ref_ncond"
   ]
  },
  {
   "cell_type": "code",
   "execution_count": 120,
   "metadata": {},
   "outputs": [
    {
     "name": "stdout",
     "output_type": "stream",
     "text": []
    }
   ],
   "source": [
    "ref_cond"
   ]
  },
  {
   "cell_type": "code",
   "execution_count": 65,
   "metadata": {},
   "outputs": [],
   "source": [
    "pdb_id =\"7te0\""
   ]
  },
  {
   "cell_type": "code",
   "execution_count": 66,
   "metadata": {},
   "outputs": [],
   "source": [
    "df_ncond = pd.read_csv(f\"mols_ncond_gened_3_{pdb_id}.csv\")\n",
    "df_cond = pd.read_csv(f\"mols_cond_gened_3_{pdb_id}.csv\")"
   ]
  },
  {
   "cell_type": "code",
   "execution_count": 69,
   "metadata": {},
   "outputs": [],
   "source": [
    "gens_ncond = df_ncond[\"SMILES_nocond\"].tolist()\n",
    "gens_cond = df_cond[\"SMILES_cond\"].tolist()"
   ]
  },
  {
   "cell_type": "code",
   "execution_count": 68,
   "metadata": {},
   "outputs": [],
   "source": [
    "gens_ncond = []\n",
    "fp_ref = MACCSkeys.GenMACCSKeys(ref_ncond)\n",
    "\n",
    "for k,v in mols_ncond.items():\n",
    "    fp = MACCSkeys.GenMACCSKeys(v)\n",
    "    similarity = DataStructs.FingerprintSimilarity(fp_ref, fp, metric=DataStructs.TanimotoSimilarity)\n",
    "    gens_ncond.append((v,k, similarity))\n",
    "\n",
    "# sorted_gen = sorted(gens_ncond, key=lambda e: e[-1], reverse=True)\n",
    "\n",
    "# img=Draw.MolsToGridImage([e[0] for e in sorted_gen], molsPerRow=5, legends=[\"idx={}, morgan={:.2f}\".format(ii, e[2]) for ii, e in enumerate(sorted_gen)])\n",
    "# nimg=Draw.MolsToGridImage([e[0] for e in gens_ncond], molsPerRow=6, legends=[\"idx={}\".format(ii+1) for ii in range(len(gens_ncond))])\n",
    "\n",
    "# nimg"
   ]
  },
  {
   "cell_type": "code",
   "execution_count": 122,
   "metadata": {},
   "outputs": [
    {
     "name": "stdout",
     "output_type": "stream",
     "text": []
    }
   ],
   "source": [
    "gens_cond = []\n",
    "fp_ref = MACCSkeys.GenMACCSKeys(ref_cond)\n",
    "\n",
    "for k,v in mols_cond.items():\n",
    "    fp = MACCSkeys.GenMACCSKeys(v)\n",
    "    similarity = DataStructs.FingerprintSimilarity(fp_ref, fp, metric=DataStructs.TanimotoSimilarity)\n",
    "    gens_cond.append((v,k, similarity))\n",
    "\n",
    "# sorted_gen = sorted(gens_cond, key=lambda e: e[-1], reverse=True)\n",
    "\n",
    "# img=Draw.MolsToGridImage([e[0] for e in sorted_gen], molsPerRow=5, legends=[\"idx={}, morgan={:.2f}\".format(ii, e[2]) for ii, e in enumerate(sorted_gen)])\n",
    "img=Draw.MolsToGridImage([e[0] for e in gens_cond], molsPerRow=6, legends=[\"idx={}\".format(ii+1) for ii in range(len(gens_cond))])\n",
    "\n",
    "img"
   ]
  },
  {
   "cell_type": "code",
   "execution_count": 4,
   "metadata": {},
   "outputs": [],
   "source": [
    "import torch\n",
    "import torch_cluster"
   ]
  },
  {
   "cell_type": "code",
   "execution_count": 28,
   "metadata": {},
   "outputs": [],
   "source": [
    "import pandas as pd\n",
    "import numpy as np\n",
    "df = pd.read_csv(\"tmp_pdb.csv\")  # or \"utf-8-sig\" if BOMmed UTF-8\n",
    "df.to_csv(\"tmp_pdb.csv\", index=False, encoding=\"utf-8\")"
   ]
  },
  {
   "cell_type": "code",
   "execution_count": 6,
   "metadata": {},
   "outputs": [
    {
     "name": "stdout",
     "output_type": "stream",
     "text": []
    }
   ],
   "source": [
    "print(\"torch\", torch.__version__, \"cuda\", torch.version.cuda)\n",
    "print(\"torch_cluster:\", torch_cluster.__file__)\n",
    "\n",
    "# diversity: compute Morgan FPs then 1 - average Tanimoto across the set\n"
   ]
  },
  {
   "cell_type": "code",
   "execution_count": null,
   "metadata": {},
   "outputs": [],
   "source": []
  },
  {
   "cell_type": "markdown",
   "metadata": {},
   "source": [
    "## RDKIT EVALUATION"
   ]
  },
  {
   "cell_type": "code",
   "execution_count": 41,
   "metadata": {},
   "outputs": [],
   "source": [
    "from rdkit import Chem\n",
    "from rdkit.Chem import Descriptors, QED, rdMolDescriptors, DataStructs\n",
    "# SAScore: put sascorer.py on PYTHONPATH (from RDKit contrib)\n",
    "import sys\n",
    "from rdkit.Chem import RDConfig\n",
    "\n",
    "sys.path.append(os.path.join(RDConfig.RDContribDir, 'SA_Score'))\n",
    "\n",
    "import sascorer\n",
    "import numpy as np\n",
    "sascorer.readFragmentScores()\n"
   ]
  },
  {
   "cell_type": "code",
   "execution_count": 19,
   "metadata": {},
   "outputs": [
    {
     "name": "stdout",
     "output_type": "stream",
     "text": []
    }
   ],
   "source": [
    "gens"
   ]
  },
  {
   "cell_type": "code",
   "execution_count": 69,
   "metadata": {},
   "outputs": [
    {
     "name": "stdout",
     "output_type": "stream",
     "text": []
    }
   ],
   "source": [
    "m = Chem.MolFromSmiles(gens_3[125][1])\n",
    "m"
   ]
  },
  {
   "cell_type": "code",
   "execution_count": null,
   "metadata": {},
   "outputs": [],
   "source": []
  },
  {
   "cell_type": "markdown",
   "metadata": {},
   "source": [
    "#### Cannonical smiles"
   ]
  },
  {
   "cell_type": "code",
   "execution_count": 42,
   "metadata": {},
   "outputs": [],
   "source": [
    "try:\n",
    "    import sascorer  # RDKit contrib (Ertl & Schuffenhauer)\n",
    "    HAS_SA = True\n",
    "except Exception:\n",
    "    HAS_SA = False\n",
    "\n",
    "def canon(smi: str):\n",
    "    m = Chem.MolFromSmiles(smi)\n",
    "    if not m:\n",
    "        return None, None\n",
    "    return Chem.MolToSmiles(m, isomericSmiles=True, canonical=True), m\n",
    "\n",
    "def lipinski_violations(m):\n",
    "    mw   = Descriptors.MolWt(m)\n",
    "    hbd  = rdMolDescriptors.CalcNumHBD(m)\n",
    "    hba  = rdMolDescriptors.CalcNumHBA(m)\n",
    "    logp = Descriptors.MolLogP(m)\n",
    "    viol = int(mw>500) + int(hbd>5) + int(hba>10) + int(logp>5)\n",
    "    return viol\n",
    "\n",
    "def per_mol_metrics(m):\n",
    "    row = {}\n",
    "    row['qed']  = QED.qed(m)\n",
    "    row['mw']   = Descriptors.MolWt(m)\n",
    "    row['logp'] = Descriptors.MolLogP(m)\n",
    "    row['hbd']  = rdMolDescriptors.CalcNumHBD(m)\n",
    "    row['hba']  = rdMolDescriptors.CalcNumHBA(m)\n",
    "    row['sa']   = (sascorer.calculateScore(m) if HAS_SA else None)\n",
    "    row['lipinski_viol'] = lipinski_violations(m)\n",
    "    row['lipinski_pass'] = int(row['lipinski_viol'] == 0)\n",
    "    return row\n",
    "\n",
    "def morgan_fp(m, radius=2, nbits=2048): # molecule to morgan fingerprint\n",
    "    return rdMolDescriptors.GetMorganFingerprintAsBitVect(m, radius, nBits=nbits)\n",
    "\n",
    "def evaluate_smiles(smiles_list, sample_pairs_cap=50000):\n",
    "    # Canonicalize, drop invalid, collect metrics\n",
    "    can, mols, fps, rows = [], [], [], []\n",
    "    for smi in smiles_list:\n",
    "        cs, m = canon(smi)\n",
    "        if cs is None:\n",
    "            continue\n",
    "        can.append(cs); mols.append(m); fps.append(morgan_fp(m))\n",
    "        r = per_mol_metrics(m)\n",
    "        r['smiles'] = cs\n",
    "        rows.append(r)\n",
    "        \n",
    "    n_total    = len(smiles_list)\n",
    "    n_valid    = len(mols)\n",
    "    uniq_count = len(set(can))\n",
    "    validity   = 100.0 * n_valid / max(1, n_total)\n",
    "    uniqueness = 100.0 * uniq_count / max(1, n_valid)\n",
    "\n",
    "    # Diversity: 1 - mean Tanimoto over (sampled) distinct pairs\n",
    "    diversity = None\n",
    "    if len(fps) >= 2:\n",
    "        # sample up to 'sample_pairs_cap' random pairs for speed\n",
    "        idx = np.arange(len(fps))\n",
    "        pairs = []\n",
    "        # exact pairs if small; otherwise sample\n",
    "        if (len(fps)*(len(fps)-1))//2 <= sample_pairs_cap:\n",
    "            for i in range(len(fps)):\n",
    "                for j in range(i+1, len(fps)):\n",
    "                    pairs.append((i,j))\n",
    "        else:\n",
    "            rng = np.random.default_rng(0)\n",
    "            for _ in range(sample_pairs_cap):\n",
    "                i, j = rng.integers(0, len(fps), 2)\n",
    "                if i==j: \n",
    "                    j = (j+1) % len(fps)\n",
    "                if i>j: i,j = j,i\n",
    "                pairs.append((i,j))\n",
    "            # de-dup sampled pairs\n",
    "            pairs = list(set(pairs))\n",
    "\n",
    "            \n",
    "        sims = [DataStructs.TanimotoSimilarity(fps[i], fps[j]) for i,j in pairs]\n",
    "        diversity = float(1.0 - (sum(sims)/len(sims)))\n",
    "\n",
    "    df = pd.DataFrame(rows)\n",
    "    summary = {\n",
    "        'n_total': n_total,\n",
    "        'n_valid': n_valid,\n",
    "        'molecule_validity_%': round(validity, 2),\n",
    "        'n_unique': uniq_count,\n",
    "        'uniqueness_%': round(uniqueness, 2),\n",
    "        'qed_mean': round(float(df['qed'].mean()) if not df.empty else float('nan'), 3),\n",
    "        'sa_mean':  round(float(df['sa'].mean())  if HAS_SA and not df.empty else float('nan'), 3),\n",
    "        'logp_mean': round(float(df['logp'].mean()) if not df.empty else float('nan'), 3),\n",
    "        'lipinski_pass_%': round(100.0*float(df['lipinski_pass'].mean()) if not df.empty else 0.0, 2),\n",
    "        'diversity_(1-meanTanimoto)': (round(diversity, 3) if diversity is not None else None),\n",
    "    }\n",
    "    return df, summary"
   ]
  },
  {
   "cell_type": "markdown",
   "metadata": {},
   "source": [
    "### Save Evaluated Metrics Results"
   ]
  },
  {
   "cell_type": "code",
   "execution_count": 70,
   "metadata": {},
   "outputs": [
    {
     "name": "stdout",
     "output_type": "stream",
     "text": [
      "{'n_total': 16, 'n_valid': 15, 'molecule_validity_%': 93.75, 'n_unique': 1, 'uniqueness_%': 6.67, 'qed_mean': 0.36, 'sa_mean': 7.328, 'logp_mean': 0.636, 'lipinski_pass_%': 100.0, 'diversity_(1-meanTanimoto)': 0.0}\n"
     ]
    }
   ],
   "source": [
    "smiles_cond = [row[1] for row in gens_cond]   # adjust if your structure differs\n",
    "df_cond, summary_cond = evaluate_smiles(smiles_cond)\n",
    "\n",
    "# Save results and print summary\n",
    "df_cond.to_csv(\"results/metrics_7te0_cond_3.csv\", index=False)\n",
    "print(summary_cond)"
   ]
  },
  {
   "cell_type": "code",
   "execution_count": 71,
   "metadata": {},
   "outputs": [
    {
     "name": "stdout",
     "output_type": "stream",
     "text": [
      "{'n_total': 104, 'n_valid': 61, 'molecule_validity_%': 58.65, 'n_unique': 3, 'uniqueness_%': 4.92, 'qed_mean': 0.366, 'sa_mean': 6.825, 'logp_mean': 0.193, 'lipinski_pass_%': 100.0, 'diversity_(1-meanTanimoto)': 0.638}\n"
     ]
    }
   ],
   "source": [
    "smiles_ncond = [row[1] for row in gens_ncond]   # adjust if your structure differs\n",
    "df_ncond, summary_ncond = evaluate_smiles(smiles_ncond)\n",
    "\n",
    "# Save results and print summary\n",
    "df_ncond.to_csv(\"results/metrics_7te0_ncond_3.csv\", index=False)\n",
    "print(summary_ncond)"
   ]
  },
  {
   "cell_type": "code",
   "execution_count": 72,
   "metadata": {},
   "outputs": [],
   "source": [
    "import matplotlib.pyplot as plt\n",
    "\n",
    "def hist(ax, data, title, bins=30):\n",
    "    ax.hist(data)\n",
    "    ax.set_title(title)\n",
    "\n",
    "def compare_hist(metric, label, bins=30):\n",
    "    plt.hist(df_ncond[metric], bins=bins, alpha=0.6, label='No VAE')\n",
    "    plt.hist(df_cond[metric],  bins=bins, alpha=0.6, label='With VAE')\n",
    "    plt.title(label)\n",
    "    plt.legend()"
   ]
  },
  {
   "cell_type": "code",
   "execution_count": 73,
   "metadata": {},
   "outputs": [
    {
     "data": {
      "image/png": "[encoded data removed]",
      "text/plain": [
       "<Figure size 1000x800 with 4 Axes>"
      ]
     },
     "metadata": {},
     "output_type": "display_data"
    }
   ],
   "source": [
    "fig, axs = plt.subplots(2, 2, figsize=(10,8))\n",
    "if not df_cond.empty:\n",
    "    hist(axs[0,0], df_cond['qed'],           'QED')\n",
    "    hist(axs[0,1], df_cond['sa'].dropna(),   'SA score')\n",
    "    hist(axs[1,0], df_cond['logp'],          'LogP')\n",
    "    hist(axs[1,1], df_cond['mw'],            'Molecular Weight')\n",
    "plt.tight_layout()\n",
    "plt.show()"
   ]
  },
  {
   "cell_type": "code",
   "execution_count": 74,
   "metadata": {},
   "outputs": [
    {
     "data": {
      "image/png": "[encoded data removed]",
      "text/plain": [
       "<Figure size 1000x800 with 4 Axes>"
      ]
     },
     "metadata": {},
     "output_type": "display_data"
    }
   ],
   "source": [
    "fig, axs = plt.subplots(2, 2, figsize=(10,8))\n",
    "if not df_ncond.empty:\n",
    "    hist(axs[0,0], df_ncond['qed'],           'QED')\n",
    "    hist(axs[0,1], df_ncond['sa'].dropna(),   'SA score')\n",
    "    hist(axs[1,0], df_ncond['logp'],          'LogP')\n",
    "    hist(axs[1,1], df_ncond['mw'],            'Molecular Weight')\n",
    "plt.tight_layout()\n",
    "plt.show()"
   ]
  },
  {
   "cell_type": "code",
   "execution_count": 79,
   "metadata": {},
   "outputs": [
    {
     "data": {
      "image/png": "[encoded data removed]",
      "text/plain": [
       "<Figure size 1200x1000 with 4 Axes>"
      ]
     },
     "metadata": {},
     "output_type": "display_data"
    }
   ],
   "source": [
    "colors = {'No VAE': 'blue', 'With VAE': 'orange'}\n",
    "alpha = 0.7\n",
    "\n",
    "fig, axes = plt.subplots(2, 2, figsize=(12,10))\n",
    "\n",
    "pairs = [\n",
    "    ('qed',  'QED Score'),\n",
    "    ('sa',   'SA Score'),\n",
    "    ('logp', 'LogP'),\n",
    "    ('mw',   'Molecular Weight'),\n",
    "]\n",
    "\n",
    "for ax, (col, title) in zip(axes.flatten(), pairs):\n",
    "    data = []\n",
    "    if not df_ncond.empty:\n",
    "        ax.hist(df_ncond[col], bins=6, color=colors['No VAE'],\n",
    "                alpha=alpha, density=True, label='No VAE')\n",
    "    if not df_cond.empty:\n",
    "        ax.hist(df_cond[col], bins=6, color=colors['With VAE'],\n",
    "                alpha=alpha, density=True, label='With VAE')\n",
    "    ax.set_title(title)\n",
    "    ax.legend()\n",
    "plt.tight_layout()\n",
    "plt.show()"
   ]
  },
  {
   "cell_type": "code",
   "execution_count": 131,
   "metadata": {},
   "outputs": [
    {
     "name": "stdout",
     "output_type": "stream",
     "text": []
    }
   ],
   "source": [
    "print(df_cond.describe())\n",
    "print(df_ncond.describe())"
   ]
  },
  {
   "cell_type": "code",
   "execution_count": 80,
   "metadata": {},
   "outputs": [
    {
     "data": {
      "image/png": "[encoded data removed]",
      "text/plain": [
       "<Figure size 700x400 with 1 Axes>"
      ]
     },
     "metadata": {},
     "output_type": "display_data"
    }
   ],
   "source": [
    "import matplotlib.pyplot as plt\n",
    "\n",
    "# Pull from your summaries\n",
    "div_n = summary_ncond['diversity_(1-meanTanimoto)']\n",
    "div_c = summary_cond['diversity_(1-meanTanimoto)']\n",
    "ro5_n = summary_ncond['lipinski_pass_%'] / 100.0   # normalize to 0–1\n",
    "ro5_c = summary_cond['lipinski_pass_%'] / 100.0\n",
    "\n",
    "metrics = ['Diversity (1−Tanimoto)', 'RO5 pass rate']\n",
    "no_vae = [div_n, ro5_n]\n",
    "vae    = [div_c, ro5_c]\n",
    "\n",
    "x = range(len(metrics))\n",
    "w = 0.35\n",
    "\n",
    "fig, ax = plt.subplots(figsize=(7,4))\n",
    "ax.bar([i - w/2 for i in x], no_vae, width=w, label='No VAE')\n",
    "ax.bar([i + w/2 for i in x], vae,    width=w, label='With VAE')\n",
    "\n",
    "ax.set_ylim(0, 1.0)\n",
    "ax.set_xticks(list(x))\n",
    "ax.set_xticklabels(metrics, rotation=0)\n",
    "ax.set_ylabel('Normalized value (0–1)')\n",
    "ax.set_title('Diversity & RO5 (normalized)')\n",
    "ax.legend()\n",
    "\n",
    "# value labels\n",
    "for i, v in enumerate(no_vae):\n",
    "    ax.text(i - w/2, v + 0.02, f\"{v:.2f}\", ha='center', va='bottom', fontsize=9)\n",
    "for i, v in enumerate(vae):\n",
    "    ax.text(i + w/2, v + 0.02, f\"{v:.2f}\", ha='center', va='bottom', fontsize=9)\n",
    "\n",
    "plt.tight_layout()\n",
    "plt.show()\n"
   ]
  },
  {
   "cell_type": "code",
   "execution_count": 81,
   "metadata": {},
   "outputs": [],
   "source": [
    "from rdkit import Chem, DataStructs\n",
    "from rdkit.Chem import rdMolDescriptors\n",
    "import numpy as np\n",
    "import pandas as pd\n",
    "import matplotlib.pyplot as plt\n",
    "\n",
    "def set_diversity(smiles, sample_pairs=50000, seed=0):\n",
    "    \"\"\"Diversity = 1 - mean Tanimoto over Morgan(2,2048).\"\"\"\n",
    "    mols = [Chem.MolFromSmiles(s) for s in smiles]\n",
    "    mols = [m for m in mols if m is not None]\n",
    "    if len(mols) < 2: return np.nan\n",
    "    fps = [rdMolDescriptors.GetMorganFingerprintAsBitVect(m, 2, nBits=2048) for m in mols]\n",
    "    n = len(fps)\n",
    "    total_pairs = n*(n-1)//2\n",
    "    rng = np.random.default_rng(seed)\n",
    "    if total_pairs <= sample_pairs:\n",
    "        pairs = [(i,j) for i in range(n) for j in range(i+1, n)]\n",
    "    else:\n",
    "        pairs = set()\n",
    "        while len(pairs) < sample_pairs:\n",
    "            i = rng.integers(0,n); j = rng.integers(0,n)\n",
    "            if i==j: continue\n",
    "            if i>j: i,j=j,i\n",
    "            pairs.add((i,j))\n",
    "        pairs = list(pairs)\n",
    "    sims = [DataStructs.TanimotoSimilarity(fps[i], fps[j]) for i,j in pairs]\n",
    "    return float(1.0 - (sum(sims)/len(sims)))\n",
    "\n",
    "def summarize_set(df, original_count=None):\n",
    "    \"\"\"\n",
    "    df columns expected: smiles, qed, sa, logp, lipinski_pass (1/0)\n",
    "    Returns a dict with set-level metrics.\n",
    "    \"\"\"\n",
    "    # validity & uniqueness (use original_count if you want to reflect invalid drops)\n",
    "    n_total = int(original_count if original_count is not None else len(df))\n",
    "    n_valid = int(len(df))\n",
    "    validity_pct = 100.0 * (n_valid / max(1, n_total))\n",
    "    uniqueness_pct = 100.0 * (len(set(df.smiles)) / max(1, n_valid))\n",
    "\n",
    "    # diversity from SMILES\n",
    "    div = set_diversity(list(df.smiles))\n",
    "\n",
    "    d = dict(\n",
    "        n_total=n_total, n_valid=n_valid,\n",
    "        validity_pct=validity_pct,\n",
    "        uniqueness_pct=uniqueness_pct,\n",
    "        qed_mean=float(df.qed.mean()) if len(df) else np.nan,\n",
    "        sa_mean=float(df.sa.mean()) if (\"sa\" in df and len(df)) else np.nan,\n",
    "        logp_mean=float(df.logp.mean()) if len(df) else np.nan,\n",
    "        lipinski_pass_pct=100.0*float(df.lipinski_pass.mean()) if (\"lipinski_pass\" in df and len(df)) else np.nan,\n",
    "        diversity=div\n",
    "    )\n",
    "    return d\n",
    "\n",
    "def normalize_for_heatmap(summaries, docking_key=None):\n",
    "    \"\"\"\n",
    "    Convert dict of name->metrics into a (metrics x conditions) matrix in [0,1], “higher=better”.\n",
    "    If docking_key is provided (e.g., 'vina_mean'), uses abs(value) before min-max.\n",
    "    For metrics where lower is better (e.g., SA mean), we invert after min-max.\n",
    "    \"\"\"\n",
    "    # Which metrics to include (paper core metrics)\n",
    "    metric_info = [\n",
    "        (\"qed_mean\",          True,  \"max\"),    # higher better\n",
    "        (\"lipinski_pass_pct\", True,  \"max\"),    # higher better\n",
    "        (\"sa_mean\",           False, \"min\"),    # lower better => invert\n",
    "        (\"logp_mean\",         None,  \"mid\"),    # show raw in table; heatmap uses % in 0-5 below\n",
    "        (\"diversity\",         True,  \"max\"),    # higher better\n",
    "    ]\n",
    "    # If you computed % in-range for LogP, include it instead of raw mean:\n",
    "    # e.g., summaries[name][\"logp_in_range_pct\"] = 100 * mean(0 <= logp <= 5)\n",
    "    has_logp_pct = all((\"logp_in_range_pct\" in v) for v in summaries.values())\n",
    "    if has_logp_pct:\n",
    "        metric_info.append((\"logp_in_range_pct\", True, \"max\"))\n",
    "\n",
    "    # Optional docking (mean, best, or top5)\n",
    "    if docking_key is not None and all((docking_key in v) for v in summaries.values()):\n",
    "        metric_info.append((docking_key, True, \"dock\"))  # we'll abs() then min-max\n",
    "\n",
    "    # Build raw matrix\n",
    "    names = list(summaries.keys())\n",
    "    rows = []\n",
    "    meta = []  # (metric_name, mode)\n",
    "    for key, higher_is_better, mode in metric_info:\n",
    "        vals = [summaries[n].get(key, np.nan) for n in names]\n",
    "        rows.append(vals)\n",
    "        meta.append((key, higher_is_better, mode))\n",
    "    M = np.array(rows, dtype=float)\n",
    "\n",
    "    # Prepare a normalized version\n",
    "    M_norm = np.zeros_like(M)\n",
    "    for i,(key,hib,mode) in enumerate(meta):\n",
    "        col = M[i,:].copy()\n",
    "        if mode==\"dock\":\n",
    "            col = np.abs(col)               # paper: absolute values used in normalization\n",
    "        if mode==\"min\":\n",
    "            # lower better -> normal min-max then invert\n",
    "            mn, mx = np.nanmin(col), np.nanmax(col)\n",
    "            v = (col - mn) / (mx - mn + 1e-12)\n",
    "            M_norm[i,:] = 1.0 - v\n",
    "        elif mode==\"max\":\n",
    "            mn, mx = np.nanmin(col), np.nanmax(col)\n",
    "            M_norm[i,:] = (col - mn) / (mx - mn + 1e-12)\n",
    "        elif mode==\"mid\":\n",
    "            # Leave raw out of heatmap; if present, set NaNs to avoid plotting\n",
    "            M_norm[i,:] = np.nan\n",
    "        else:\n",
    "            M_norm[i,:] = np.nan\n",
    "\n",
    "    # Scale percentages to 0–1 if any (e.g., lipinski_pass_pct)\n",
    "    for i,(key,hib,mode) in enumerate(meta):\n",
    "        if key.endswith(\"_pct\") and mode in (\"min\",\"max\",\"dock\"):\n",
    "            M_norm[i,:] = M_norm[i,:]  # already min-max across conditions\n",
    "\n",
    "    return names, meta, M, M_norm\n",
    "\n",
    "def plot_heatmap(names, meta, M_norm, title=\"TamGen metrics (normalized, higher=better)\"):\n",
    "    # Filter out rows that are NaN-only (e.g., raw logp_mean if not normalized)\n",
    "    keep = ~np.all(np.isnan(M_norm), axis=1)\n",
    "    M2 = M_norm[keep,:]\n",
    "    labels = [m[0] for i,m in enumerate(meta) if keep[i]]\n",
    "\n",
    "    fig, ax = plt.subplots(figsize=(6, 0.6*len(labels)+2))\n",
    "    im = ax.imshow(M2, aspect='auto')  # default colormap\n",
    "    ax.set_yticks(np.arange(len(labels)))\n",
    "    ax.set_yticklabels(labels)\n",
    "    ax.set_xticks(np.arange(len(names)))\n",
    "    ax.set_xticklabels(names)\n",
    "    # annotate\n",
    "    for i in range(M2.shape[0]):\n",
    "        for j in range(M2.shape[1]):\n",
    "            if np.isfinite(M2[i,j]):\n",
    "                ax.text(j, i, f\"{M2[i,j]:.2f}\", ha=\"center\", va=\"center\", fontsize=9)\n",
    "    cbar = plt.colorbar(im, ax=ax)\n",
    "    cbar.set_label(\"Normalized (0–1)\")\n",
    "    ax.set_title(title)\n",
    "    plt.tight_layout()\n",
    "    plt.show()\n",
    "\n",
    "\n",
    "def norm_clip(v, lo, hi, invert=False):\n",
    "    v = np.clip(v, lo, hi)\n",
    "    x = (v - lo) / (hi - lo + 1e-12)\n",
    "    return 1.0 - x if invert else x\n",
    "\n",
    "def prepare_heatmap_matrix(summaries, include_docking_key=None):\n",
    "    \"\"\"\n",
    "    summaries: dict like {\"No VAE\": {...}, \"With VAE\": {...}}\n",
    "      expected keys per summary:\n",
    "      - \"qed_mean\" in [0,1]\n",
    "      - \"sa_mean\"  ~[1,10]   (lower better)\n",
    "      - \"lipinski_pass_%\"\n",
    "      - \"diversity\" in [0,1]\n",
    "      - optional \"logp_in_range_pct\" (preferred) OR \"logp_mean\"\n",
    "      - optional docking key like \"vina_mean\" (negative, better if more negative)\n",
    "    returns names, labels, H (normalized 0..1)\n",
    "    \"\"\"\n",
    "    names = list(summaries.keys())\n",
    "\n",
    "    # Build rows as (label, normalized_values_array)\n",
    "    rows = []\n",
    "\n",
    "    # QED (0..1)\n",
    "    rows.append( (\"QED (mean)\", np.array([summaries[n].get(\"qed_mean\", np.nan) for n in names])) )\n",
    "\n",
    "    # SA (1..10), lower is better -> invert\n",
    "    sa_vals = np.array([summaries[n].get(\"sa_mean\", np.nan) for n in names])\n",
    "    rows.append( (\"SA (mean)\", norm_clip(sa_vals, 1.0, 10.0, invert=True)) )\n",
    "\n",
    "    # Lipinski pass % (0..100)\n",
    "    lip_vals = np.array([summaries[n].get(\"lipinski_pass_pct\", np.nan) for n in names])\n",
    "    rows.append( (\"RO5 pass (%)\", lip_vals/100.0) )\n",
    "\n",
    "    # Diversity (0..1)\n",
    "    div_vals = np.array([summaries[n].get(\"diversity\", np.nan) for n in names])\n",
    "    rows.append( (\"Diversity (1 - Tanimoto)\", div_vals) )\n",
    "\n",
    "    # LogP quality: prefer percent in [0,5], else derive a centered score from mean\n",
    "    if all((\"logp_in_range_pct\" in summaries[n] for n in names)):\n",
    "        logp_pct = np.array([summaries[n][\"logp_in_range_pct\"] for n in names])\n",
    "        rows.append( (\"LogP in [0,5] (%)\", logp_pct/100.0) )\n",
    "    elif all((\"logp_mean\" in summaries[n] for n in names)):\n",
    "        # center at 2.5 (middle of 0..5) and penalize distance; clip beyond ±2.5\n",
    "        lm = np.array([summaries[n][\"logp_mean\"] for n in names])\n",
    "        rows.append( (\"LogP (centered quality)\", 1.0 - np.minimum(np.abs(lm-2.5)/2.5, 1.0)) )\n",
    "\n",
    "    # Docking (optional): normalize by absolute value in a window, e.g., [-12, -2]\n",
    "    if include_docking_key and all((include_docking_key in summaries[n] for n in names)):\n",
    "        d = np.array([summaries[n][include_docking_key] for n in names], dtype=float)\n",
    "        # map [-12..-2] -> [1..0] by abs and then min-max; clamp outside range\n",
    "        rows.append( (f\"Docking ({include_docking_key})\", norm_clip(np.abs(d), 2.0, 12.0, invert=False)) )\n",
    "\n",
    "    labels = [r[0] for r in rows]\n",
    "    H = np.vstack([ (r[1] if r[0]!=\"QED (mean)\" else r[1]) for r in rows ])\n",
    "    return names, labels, H\n",
    "\n",
    "def plot_heatmap_fixed(names, labels, H, title=\"Evaluation metrics (normalized 0–1, higher=better)\"):\n",
    "    fig, ax = plt.subplots(figsize=(6, 0.6*len(labels)+2))\n",
    "    im = ax.imshow(H, aspect='auto', vmin=0, vmax=1)\n",
    "    ax.set_yticks(np.arange(len(labels))); ax.set_yticklabels(labels)\n",
    "    ax.set_xticks(np.arange(len(names)));  ax.set_xticklabels(names)\n",
    "    for i in range(H.shape[0]):\n",
    "        for j in range(H.shape[1]):\n",
    "            if np.isfinite(H[i,j]):\n",
    "                ax.text(j, i, f\"{H[i,j]:.2f}\", ha='center', va='center', fontsize=9)\n",
    "    cbar = plt.colorbar(im); cbar.set_label(\"Normalized (0–1)\")\n",
    "    ax.set_title(title)\n",
    "    plt.tight_layout(); plt.show()\n"
   ]
  },
  {
   "cell_type": "code",
   "execution_count": 82,
   "metadata": {},
   "outputs": [
    {
     "data": {
      "image/png": "[encoded data removed]",
      "text/plain": [
       "<Figure size 600x500 with 2 Axes>"
      ]
     },
     "metadata": {},
     "output_type": "display_data"
    }
   ],
   "source": [
    "\n",
    "summary_n = summarize_set(df_ncond)\n",
    "summary_c = summarize_set(df_cond)\n",
    "\n",
    "# Optional: add \"% LogP in [0,5]\"\n",
    "summary_n[\"logp_in_range_pct\"] = 100.0 * float(((df_ncond[\"logp\"]>=0) & (df_ncond[\"logp\"]<=5)).mean()) if len(df_ncond) else np.nan\n",
    "summary_c[\"logp_in_range_pct\"] = 100.0 * float(((df_cond[\"logp\"]>=0) & (df_cond[\"logp\"]<=5)).mean()) if len(df_cond) else np.nan\n",
    "\n",
    "summaries = {\n",
    "    \"No VAE\": summary_n,\n",
    "    \"With VAE\": summary_c\n",
    "}\n",
    "\n",
    "\n",
    "names, labels, H = prepare_heatmap_matrix(summaries, include_docking_key=None)  # add later\n",
    "plot_heatmap_fixed(names, labels, H)"
   ]
  },
  {
   "cell_type": "code",
   "execution_count": 83,
   "metadata": {},
   "outputs": [
    {
     "data": {
      "image/png": "[encoded data removed]",
      "text/plain": [
       "<Figure size 600x500 with 2 Axes>"
      ]
     },
     "metadata": {},
     "output_type": "display_data"
    },
    {
     "data": {
      "text/html": [
       "<div>\n",
       "<style scoped>\n",
       "    .dataframe tbody tr th:only-of-type {\n",
       "        vertical-align: middle;\n",
       "    }\n",
       "\n",
       "    .dataframe tbody tr th {\n",
       "        vertical-align: top;\n",
       "    }\n",
       "\n",
       "    .dataframe thead th {\n",
       "        text-align: right;\n",
       "    }\n",
       "</style>\n",
       "<table border=\"1\" class=\"dataframe\">\n",
       "  <thead>\n",
       "    <tr style=\"text-align: right;\">\n",
       "      <th></th>\n",
       "      <th>condition</th>\n",
       "      <th>QED_mean</th>\n",
       "      <th>SA_mean</th>\n",
       "      <th>LogP_mean</th>\n",
       "      <th>RO5_pass_%</th>\n",
       "      <th>Diversity(1−Tanimoto)</th>\n",
       "    </tr>\n",
       "  </thead>\n",
       "  <tbody>\n",
       "    <tr>\n",
       "      <th>0</th>\n",
       "      <td>No VAE</td>\n",
       "      <td>0.365866</td>\n",
       "      <td>6.824624</td>\n",
       "      <td>0.193287</td>\n",
       "      <td>None</td>\n",
       "      <td>None</td>\n",
       "    </tr>\n",
       "    <tr>\n",
       "      <th>1</th>\n",
       "      <td>With VAE</td>\n",
       "      <td>0.359785</td>\n",
       "      <td>7.328415</td>\n",
       "      <td>0.636100</td>\n",
       "      <td>None</td>\n",
       "      <td>None</td>\n",
       "    </tr>\n",
       "  </tbody>\n",
       "</table>\n",
       "</div>"
      ],
      "text/plain": [
       "  condition  QED_mean   SA_mean  LogP_mean RO5_pass_% Diversity(1−Tanimoto)\n",
       "0    No VAE  0.365866  6.824624   0.193287       None                  None\n",
       "1  With VAE  0.359785  7.328415   0.636100       None                  None"
      ]
     },
     "execution_count": 83,
     "metadata": {},
     "output_type": "execute_result"
    }
   ],
   "source": [
    "names, labels, H = prepare_heatmap_matrix(summaries)  #, docking_key=None\n",
    "plot_heatmap(names, labels, H) # Raw table (means in native units) \n",
    "raw_rows = [] \n",
    "for name, S in summaries.items(): \n",
    "    raw_rows.append({ \"condition\": name, \n",
    "                     \"QED_mean\": S.get(\"qed_mean\"), \n",
    "                     \"SA_mean\": S.get(\"sa_mean\"), \n",
    "                     \"LogP_mean\": S.get(\"logp_mean\"), \n",
    "                     \"RO5_pass_%\": S.get(\"lipinski_pass_%\"), \n",
    "                     \"Diversity(1−Tanimoto)\": S.get(\"diversity_(1-meanTanimoto)\")\n",
    "                       }) \n",
    "df_raw = pd.DataFrame(raw_rows) \n",
    "df_raw "
   ]
  },
  {
   "cell_type": "code",
   "execution_count": 84,
   "metadata": {},
   "outputs": [
    {
     "name": "stderr",
     "output_type": "stream",
     "text": [
      "c:\\Users\\chusa\\miniconda3\\envs\\TamGen2\\lib\\site-packages\\pandas\\io\\formats\\style.py:3931: RuntimeWarning: All-NaN slice encountered\n",
      "  smin = np.nanmin(gmap) if vmin is None else vmin\n",
      "c:\\Users\\chusa\\miniconda3\\envs\\TamGen2\\lib\\site-packages\\pandas\\io\\formats\\style.py:3932: RuntimeWarning: All-NaN slice encountered\n",
      "  smax = np.nanmax(gmap) if vmax is None else vmax\n"
     ]
    },
    {
     "data": {
      "text/html": [
       "<style type=\"text/css\">\n",
       "#T_6ef99_row0_col0, #T_6ef99_row1_col2 {\n",
       "  background-color: #08306b;\n",
       "  color: #f1f1f1;\n",
       "}\n",
       "#T_6ef99_row0_col1 {\n",
       "  background-color: #fff5f0;\n",
       "  color: #000000;\n",
       "}\n",
       "#T_6ef99_row0_col2, #T_6ef99_row1_col0 {\n",
       "  background-color: #f7fbff;\n",
       "  color: #000000;\n",
       "}\n",
       "#T_6ef99_row0_col3, #T_6ef99_row0_col4, #T_6ef99_row1_col3, #T_6ef99_row1_col4 {\n",
       "  background-color: #000000;\n",
       "  color: #f1f1f1;\n",
       "}\n",
       "#T_6ef99_row1_col1 {\n",
       "  background-color: #67000d;\n",
       "  color: #f1f1f1;\n",
       "}\n",
       "#T_6ef99_row2_col0, #T_6ef99_row2_col1, #T_6ef99_row2_col2, #T_6ef99_row2_col3, #T_6ef99_row2_col4 {\n",
       "  font-weight: bold;\n",
       "}\n",
       "</style>\n",
       "<table id=\"T_6ef99\">\n",
       "  <thead>\n",
       "    <tr>\n",
       "      <th class=\"blank level0\" >&nbsp;</th>\n",
       "      <th id=\"T_6ef99_level0_col0\" class=\"col_heading level0 col0\" >QED_mean</th>\n",
       "      <th id=\"T_6ef99_level0_col1\" class=\"col_heading level0 col1\" >SA_mean</th>\n",
       "      <th id=\"T_6ef99_level0_col2\" class=\"col_heading level0 col2\" >LogP_mean</th>\n",
       "      <th id=\"T_6ef99_level0_col3\" class=\"col_heading level0 col3\" >RO5_pass_%</th>\n",
       "      <th id=\"T_6ef99_level0_col4\" class=\"col_heading level0 col4\" >Diversity(1−Tanimoto)</th>\n",
       "    </tr>\n",
       "  </thead>\n",
       "  <tbody>\n",
       "    <tr>\n",
       "      <th id=\"T_6ef99_level0_row0\" class=\"row_heading level0 row0\" >No VAE</th>\n",
       "      <td id=\"T_6ef99_row0_col0\" class=\"data row0 col0\" >0.366</td>\n",
       "      <td id=\"T_6ef99_row0_col1\" class=\"data row0 col1\" >6.825</td>\n",
       "      <td id=\"T_6ef99_row0_col2\" class=\"data row0 col2\" >0.193</td>\n",
       "      <td id=\"T_6ef99_row0_col3\" class=\"data row0 col3\" >nan%</td>\n",
       "      <td id=\"T_6ef99_row0_col4\" class=\"data row0 col4\" >nan</td>\n",
       "    </tr>\n",
       "    <tr>\n",
       "      <th id=\"T_6ef99_level0_row1\" class=\"row_heading level0 row1\" >With VAE</th>\n",
       "      <td id=\"T_6ef99_row1_col0\" class=\"data row1 col0\" >0.360</td>\n",
       "      <td id=\"T_6ef99_row1_col1\" class=\"data row1 col1\" >7.328</td>\n",
       "      <td id=\"T_6ef99_row1_col2\" class=\"data row1 col2\" >0.636</td>\n",
       "      <td id=\"T_6ef99_row1_col3\" class=\"data row1 col3\" >nan%</td>\n",
       "      <td id=\"T_6ef99_row1_col4\" class=\"data row1 col4\" >nan</td>\n",
       "    </tr>\n",
       "    <tr>\n",
       "      <th id=\"T_6ef99_level0_row2\" class=\"row_heading level0 row2\" >Δ (With − No)</th>\n",
       "      <td id=\"T_6ef99_row2_col0\" class=\"data row2 col0\" >-0.006</td>\n",
       "      <td id=\"T_6ef99_row2_col1\" class=\"data row2 col1\" >0.504</td>\n",
       "      <td id=\"T_6ef99_row2_col2\" class=\"data row2 col2\" >0.443</td>\n",
       "      <td id=\"T_6ef99_row2_col3\" class=\"data row2 col3\" >nan%</td>\n",
       "      <td id=\"T_6ef99_row2_col4\" class=\"data row2 col4\" >nan</td>\n",
       "    </tr>\n",
       "  </tbody>\n",
       "</table>\n"
      ],
      "text/plain": [
       "<pandas.io.formats.style.Styler at 0x27dda69bfa0>"
      ]
     },
     "execution_count": 84,
     "metadata": {},
     "output_type": "execute_result"
    }
   ],
   "source": [
    "import pandas as pd\n",
    "import numpy as np\n",
    "\n",
    "# Ensure consistent order and numeric types\n",
    "df = (df_raw\n",
    "      .set_index(\"condition\")\n",
    "      .loc[[\"No VAE\", \"With VAE\"]]\n",
    "      .apply(pd.to_numeric, errors=\"coerce\"))\n",
    "\n",
    "# Add a delta row (With VAE − No VAE)\n",
    "delta = (df.loc[\"With VAE\"] - df.loc[\"No VAE\"]).to_frame().T\n",
    "delta.index = [\"Δ (With − No)\"]\n",
    "df_show = pd.concat([df, delta])\n",
    "\n",
    "# Nice formatting + gradients (blue for “higher is better”, red for SA which is “lower is better”)\n",
    "sty = (df_show.style\n",
    "       .format({\n",
    "           \"QED_mean\": \"{:.3f}\",\n",
    "           \"SA_mean\": \"{:.3f}\",\n",
    "           \"LogP_mean\": \"{:.3f}\",\n",
    "           \"RO5_pass_%\": \"{:.1f}%\",\n",
    "           \"Diversity(1−Tanimoto)\": \"{:.3f}\",\n",
    "       })\n",
    "       # highlight \"higher is better\" metrics\n",
    "       .background_gradient(axis=0, cmap=\"Blues\",\n",
    "                            subset=pd.IndexSlice[[\"No VAE\",\"With VAE\"],\n",
    "                                [\"QED_mean\",\"LogP_mean\",\"RO5_pass_%\",\"Diversity(1−Tanimoto)\"]])\n",
    "       # highlight SA separately (lower is better) by inverting values\n",
    "       .background_gradient(axis=0, cmap=\"Reds\",\n",
    "                            subset=pd.IndexSlice[[\"No VAE\",\"With VAE\"],[\"SA_mean\"]])\n",
    "       .set_properties(subset=pd.IndexSlice[[\"Δ (With − No)\"], :],\n",
    "                       **{\"font-weight\":\"bold\"})\n",
    "      )\n",
    "sty\n"
   ]
  },
  {
   "cell_type": "code",
   "execution_count": 85,
   "metadata": {},
   "outputs": [
    {
     "data": {
      "text/html": [
       "<div>\n",
       "<style scoped>\n",
       "    .dataframe tbody tr th:only-of-type {\n",
       "        vertical-align: middle;\n",
       "    }\n",
       "\n",
       "    .dataframe tbody tr th {\n",
       "        vertical-align: top;\n",
       "    }\n",
       "\n",
       "    .dataframe thead th {\n",
       "        text-align: right;\n",
       "    }\n",
       "</style>\n",
       "<table border=\"1\" class=\"dataframe\">\n",
       "  <thead>\n",
       "    <tr style=\"text-align: right;\">\n",
       "      <th></th>\n",
       "      <th>Metric / Scale</th>\n",
       "      <th>Typical criterion</th>\n",
       "    </tr>\n",
       "  </thead>\n",
       "  <tbody>\n",
       "    <tr>\n",
       "      <th>0</th>\n",
       "      <td>QED (0–1, higher better)</td>\n",
       "      <td>≈0.5–0.7 common for drugs; ≥0.5 is solid</td>\n",
       "    </tr>\n",
       "    <tr>\n",
       "      <th>1</th>\n",
       "      <td>SA (1–10, lower better)</td>\n",
       "      <td>≤6 preferred; &gt;6 gets harder</td>\n",
       "    </tr>\n",
       "    <tr>\n",
       "      <th>2</th>\n",
       "      <td>LogP (oral window)</td>\n",
       "      <td>0–5 (many aim ≈1–3)</td>\n",
       "    </tr>\n",
       "    <tr>\n",
       "      <th>3</th>\n",
       "      <td>Lipinski RO5 pass (%)</td>\n",
       "      <td>High is good; often ≥80–90%</td>\n",
       "    </tr>\n",
       "    <tr>\n",
       "      <th>4</th>\n",
       "      <td>Diversity (1−Tanimoto, 0–1)</td>\n",
       "      <td>Higher = more structural spread</td>\n",
       "    </tr>\n",
       "  </tbody>\n",
       "</table>\n",
       "</div>"
      ],
      "text/plain": [
       "                Metric / Scale                         Typical criterion\n",
       "0     QED (0–1, higher better)  ≈0.5–0.7 common for drugs; ≥0.5 is solid\n",
       "1      SA (1–10, lower better)              ≤6 preferred; >6 gets harder\n",
       "2           LogP (oral window)                       0–5 (many aim ≈1–3)\n",
       "3        Lipinski RO5 pass (%)               High is good; often ≥80–90%\n",
       "4  Diversity (1−Tanimoto, 0–1)           Higher = more structural spread"
      ]
     },
     "execution_count": 85,
     "metadata": {},
     "output_type": "execute_result"
    }
   ],
   "source": [
    "criteria = [\n",
    "    (\"QED (0–1, higher better)\",        \"≈0.5–0.7 common for drugs; ≥0.5 is solid\"),\n",
    "    (\"SA (1–10, lower better)\",         \"≤6 preferred; >6 gets harder\"),\n",
    "    (\"LogP (oral window)\",              \"0–5 (many aim ≈1–3)\"),\n",
    "    (\"Lipinski RO5 pass (%)\",           \"High is good; often ≥80–90%\"),\n",
    "    (\"Diversity (1−Tanimoto, 0–1)\",     \"Higher = more structural spread\")\n",
    "]\n",
    "\n",
    "df_criteria = pd.DataFrame(criteria, columns=[\"Metric / Scale\", \"Typical criterion\"])\n",
    "df_criteria"
   ]
  },
  {
   "cell_type": "code",
   "execution_count": 157,
   "metadata": {},
   "outputs": [],
   "source": [
    "import tempfile, subprocess, os\n",
    "from rdkit.Chem import AllChem\n",
    "\n",
    "def smiles_to_minimized_sdf(smiles, sdf_path):\n",
    "    m = Chem.MolFromSmiles(smiles)\n",
    "    if not m: return False\n",
    "    m = Chem.AddHs(m)\n",
    "    if AllChem.EmbedMolecule(m, AllChem.ETKDGv3()) != 0: return False\n",
    "    AllChem.MMFFOptimizeMolecule(m, maxIters=200)\n",
    "    w = Chem.SDWriter(sdf_path); w.write(m); w.close()\n",
    "    return True\n",
    "\n",
    "def sdf_to_pdbqt(sdf_path, pdbqt_path):\n",
    "    # Requires meeko: pip install meeko\n",
    "    r = subprocess.run([\"mk_prepare_ligand.py\", \"-i\", sdf_path, \"-o\", pdbqt_path],\n",
    "                       capture_output=True, text=True)\n",
    "    return r.returncode == 0\n",
    "\n",
    "def vina_score(receptor_pdbqt, ligand_pdbqt, center, size, exhaustiveness=16, num_modes=9):\n",
    "    cx,cy,cz = center; sx,sy,sz = size\n",
    "    out_pdbqt = tempfile.mkstemp(suffix=\".pdbqt\")[1]\n",
    "    out_log   = tempfile.mkstemp(suffix=\".log\")[1]\n",
    "    cmd = [\n",
    "        \"vina\", \"--receptor\", receptor_pdbqt, \"--ligand\", ligand_pdbqt,\n",
    "        \"--center_x\", str(cx), \"--center_y\", str(cy), \"--center_z\", str(cz),\n",
    "        \"--size_x\", str(sx), \"--size_y\", str(sy), \"--size_z\", str(sz),\n",
    "        \"--exhaustiveness\", str(exhaustiveness), \"--num_modes\", str(num_modes),\n",
    "        \"--out\", out_pdbqt, \"--log\", out_log\n",
    "    ]\n",
    "    subprocess.run(cmd, capture_output=True, text=True)\n",
    "    best = None\n",
    "    if os.path.exists(out_log):\n",
    "        with open(out_log) as f:\n",
    "            for line in f:\n",
    "                if \"REMARK VINA RESULT:\" in line:\n",
    "                    try:\n",
    "                        best = float(line.split()[3])  # kcal/mol (negative = better)\n",
    "                        break\n",
    "                    except: pass\n",
    "    return best\n",
    "\n",
    "def batch_dock(smiles_list, receptor_pdbqt, center, size, max_n=100):\n",
    "    scores=[]\n",
    "    for smi in smiles_list[:max_n]:\n",
    "        sdf = tempfile.mkstemp(suffix=\".sdf\")[1]\n",
    "        pdbqt = tempfile.mkstemp(suffix=\".pdbqt\")[1]\n",
    "        if not smiles_to_minimized_sdf(smi, sdf): scores.append(None); continue\n",
    "        if not sdf_to_pdbqt(sdf, pdbqt):          scores.append(None); continue\n",
    "        s = vina_score(receptor_pdbqt, pdbqt, center, size)\n",
    "        scores.append(s)\n",
    "    return scores\n"
   ]
  },
  {
   "cell_type": "code",
   "execution_count": 174,
   "metadata": {},
   "outputs": [
    {
     "name": "stdout",
     "output_type": "stream",
     "text": []
    }
   ],
   "source": [
    "RECEPTOR = \"pocket_7te0.pdbqt\"     # your prepared receptor\n",
    "CENTER   = (12.3, 34.5, 6.7)       # pocket center\n",
    "SIZE     = (24, 24, 24)            # Å box size\n",
    "\n",
    "dock_n = batch_dock(list(df_ncond[\"smiles\"]), RECEPTOR, CENTER, SIZE, max_n=100)\n",
    "dock_c = batch_dock(list(df_cond[\"smiles\"]),  RECEPTOR, CENTER, SIZE, max_n=100)\n",
    "\n",
    "df_ncond[\"vina_kcal_mol\"] = dock_n\n",
    "df_cond[\"vina_kcal_mol\"]  = dock_c\n",
    "\n",
    "# Add docking summaries (choose any/all of these)\n",
    "summary_n[\"vina_mean\"]   = float(pd.Series(dock_n).dropna().mean()) if len(dock_n) else np.nan\n",
    "summary_c[\"vina_mean\"]   = float(pd.Series(dock_c).dropna().mean()) if len(dock_c) else np.nan\n",
    "summary_n[\"vina_best\"]   = float(pd.Series(dock_n).dropna().min())  if len(dock_n) else np.nan\n",
    "summary_c[\"vina_best\"]   = float(pd.Series(dock_c).dropna().min())  if len(dock_c) else np.nan\n",
    "summary_n[\"vina_top5\"]   = float(pd.Series(sorted([d for d in dock_n if d is not None])[:5]).mean()) if pd.Series(dock_n).notna().sum()>=5 else np.nan\n",
    "summary_c[\"vina_top5\"]   = float(pd.Series(sorted([d for d in dock_c if d is not None])[:5]).mean()) if pd.Series(dock_c).notna().sum()>=5 else np.nan\n",
    "\n",
    "# Re-normalize & plot heatmap including docking (use 'vina_mean' or 'vina_top5' as the docking_key)\n",
    "summaries = {\"No VAE\": summary_n, \"With VAE\": summary_c}\n",
    "names, meta, M_raw, M_norm = normalize_for_heatmap(summaries, docking_key=\"vina_mean\")\n",
    "plot_heatmap(names, meta, M_norm, title=\"TamGen paper metrics (+ docking, normalized)\")\n"
   ]
  }
 ],
 "metadata": {
  "kernelspec": {
   "display_name": "TamGen2",
   "language": "python",
   "name": "python3"
  },
  "language_info": {
   "codemirror_mode": {
    "name": "ipython",
    "version": 3
   },
   "file_extension": ".py",
   "mimetype": "text/x-python",
   "name": "python",
   "nbconvert_exporter": "python",
   "pygments_lexer": "ipython3",
   "version": "3.9.23"
  }
 },
 "nbformat": 4,
 "nbformat_minor": 2
}
